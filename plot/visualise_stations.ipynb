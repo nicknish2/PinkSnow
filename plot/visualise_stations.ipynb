{
 "cells": [
  {
   "cell_type": "code",
   "execution_count": 1,
   "id": "1acc582a-9735-4a58-9ba0-9dfc71233c88",
   "metadata": {},
   "outputs": [],
   "source": [
    "from matplotlib.path import Path\n",
    "import matplotlib.pyplot as plt\n",
    "import numpy as np\n",
    "\n",
    "import cartopy.crs as ccrs\n",
    "from cartopy.io.img_tiles import OSM\n",
    "import cartopy.feature as cfeature\n",
    "import cartopy.io.shapereader as shpreader\n",
    "import cartopy.geodesic as cgeo\n",
    "\n",
    "import os\n",
    "\n",
    "import cartopy.io.img_tiles as cimgt\n",
    "import io\n",
    "from urllib.request import urlopen, Request\n",
    "from PIL import Image\n",
    "import shapely"
   ]
  },
  {
   "cell_type": "code",
   "execution_count": 3,
   "id": "7e7d9c1e-8186-4ece-b1fd-66ae7c1fc8b4",
   "metadata": {},
   "outputs": [],
   "source": [
    "stations = np.load(\"../data/stations.npz\")\n",
    "lats = stations[\"lats\"]\n",
    "lons = stations[\"lons\"]\n",
    "ids = stations[\"ids\"]"
   ]
  },
  {
   "cell_type": "code",
   "execution_count": 4,
   "id": "9c9af5a7-d2e5-40b4-996a-7b6c15d5da6b",
   "metadata": {},
   "outputs": [],
   "source": [
    "def image_spoof(self, tile):\n",
    "    '''this function reformats web requests from OSM for cartopy\n",
    "    Heavily based on code by Joshua Hrisko at:\n",
    "        https://makersportal.com/blog/2020/4/24/geographic-visualizations-in-python-with-cartopy'''\n",
    "\n",
    "    url = self._image_url(tile)                # get the url of the street map API\n",
    "    req = Request(url)                         # start request\n",
    "    req.add_header('User-agent','Anaconda 3')  # add user agent to request\n",
    "    fh = urlopen(req) \n",
    "    im_data = io.BytesIO(fh.read())            # get image\n",
    "    fh.close()                                 # close url\n",
    "    img = Image.open(im_data)                  # open image with PIL\n",
    "    img = img.convert(self.desired_tile_form)  # set image format\n",
    "    return img, self.tileextent(tile), 'lower' # reformat for cartopy"
   ]
  },
  {
   "cell_type": "code",
   "execution_count": 5,
   "id": "27ea67c7-805a-49c1-a1ff-fb1d65445276",
   "metadata": {},
   "outputs": [],
   "source": [
    "def calc_extent(lon,lat,dist):\n",
    "    '''This function calculates extent of map\n",
    "    Inputs:\n",
    "        lat,lon: location in degrees\n",
    "        dist: dist to edge from centre\n",
    "    '''\n",
    "\n",
    "    dist_cnr = np.sqrt(2*dist**2)\n",
    "    top_left = cgeo.Geodesic().direct(points=(lon,lat),azimuths=-45,distances=dist_cnr)[:,0:2][0]\n",
    "    bot_right = cgeo.Geodesic().direct(points=(lon,lat),azimuths=135,distances=dist_cnr)[:,0:2][0]\n",
    "\n",
    "    extent = [top_left[0], bot_right[0], bot_right[1], top_left[1]]\n",
    "\n",
    "    return extent"
   ]
  },
  {
   "cell_type": "code",
   "execution_count": null,
   "id": "ed7a07cd-2a3a-4460-98fb-08247155e9a5",
   "metadata": {},
   "outputs": [],
   "source": [
    "lonmin = -72\n",
    "lonmax = -71\n",
    "latmin = 43.6\n",
    "latmax = 44.4\n",
    "\n",
    "cimgt.OSM.get_image = image_spoof  # reformat web request for street map spoofing\n",
    "img = cimgt.OSM()                  # spoofed, downloaded street map\n",
    "\n",
    "# cimgt.QuadtreeTiles.get_image = image_spoof # reformat web request for street map spoofing\n",
    "# img = cimgt.QuadtreeTiles() # spoofed, downloaded street map\n",
    "\n",
    "fig = plt.figure(figsize=(10,10))\n",
    "ax = plt.axes(projection=img.crs) # project using coordinate reference system (CRS) of street map\n",
    "data_crs = ccrs.PlateCarree()\n",
    "ax.set_extent([lonmin, lonmax, latmin, latmax], ccrs.PlateCarree())\n",
    "\n",
    "scale = 11\n",
    "\n",
    "# extent = calc_extent(lon,lat,radius*1.1)\n",
    "# ax.set_extent(extent) # set extents\n",
    "ax.add_image(img, int(scale)) # add OSM with zoom specification\n",
    "\n",
    "# ax.coastlines()\n",
    "# ax.add_feature(cfeature.BORDERS, linestyle='-', lw=0.5)\n",
    "# ax.add_feature(cfeature.LAKES, alpha=0.5)\n",
    "# ax.add_feature(cfeature.RIVERS)\n",
    "\n",
    "ax.gridlines(draw_labels=True,alpha=0.1)\n",
    "\n",
    "ax.plot(lons, lats, transform=ccrs.PlateCarree(),\n",
    "        marker='h', color='C1', markersize=6, linestyle='', markeredgecolor='k')\n",
    "\n",
    "dxy = 0.001\n",
    "for (id,lon,lat) in zip(ids,lons,lats):\n",
    "    if lon > lonmin and lon < lonmax and lat > latmin and lat < latmax:\n",
    "        ax.text(lon+dxy,lat+dxy, id, transform=ccrs.PlateCarree(), rotation=30)\n",
    "\n",
    "# ax.set_title('Snowpack stations')\n",
    "plt.tight_layout()"
   ]
  }
 ],
 "metadata": {
  "kernelspec": {
   "display_name": "Python 3 (ipykernel)",
   "language": "python",
   "name": "python3"
  },
  "language_info": {
   "codemirror_mode": {
    "name": "ipython",
    "version": 3
   },
   "file_extension": ".py",
   "mimetype": "text/x-python",
   "name": "python",
   "nbconvert_exporter": "python",
   "pygments_lexer": "ipython3",
   "version": "3.11.0"
  }
 },
 "nbformat": 4,
 "nbformat_minor": 5
}
